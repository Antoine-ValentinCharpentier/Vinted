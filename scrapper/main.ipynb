{
 "cells": [
  {
   "cell_type": "code",
   "execution_count": 1,
   "metadata": {},
   "outputs": [
    {
     "name": "stdout",
     "output_type": "stream",
     "text": [
      "Auth cookies define\n"
     ]
    }
   ],
   "source": [
    "from vinted import Vinted\n",
    "\n",
    "vinted = Vinted()"
   ]
  },
  {
   "cell_type": "code",
   "execution_count": 2,
   "metadata": {},
   "outputs": [
    {
     "name": "stdout",
     "output_type": "stream",
     "text": [
      "{'id': 4774247355, 'title': \"Vintage Triple Burdeos Jacket Retro High Quality Premium Old School Design Flow 90's\", 'price': '24.95', 'is_visible': 1, 'discount': None, 'currency': 'EUR', 'brand_title': 'Vintage Dressing', 'user': {'id': 153358391, 'login': 'nationalclothing', 'business': False, 'profile_url': 'https://www.vinted.fr/member/153358391-nationalclothing', 'photo': {'id': 149426192, 'width': 648, 'height': 800, 'temp_uuid': None, 'url': 'https://images1.vinted.net/t/02_02622_HwHGYKNmk2A6op6sKL43N4eM/f800/1689878582.jpeg?s=36590bec365053f6c94415e4731869fa3c84e3c1', 'dominant_color': '#31abc2', 'dominant_color_opaque': '#C1E6ED', 'thumbnails': [{'type': 'thumb310', 'url': 'https://images1.vinted.net/t/02_02622_HwHGYKNmk2A6op6sKL43N4eM/310x310/1689878582.jpeg?s=7c8435147a189dc8f3be69de86d18471dc254810', 'width': 310, 'height': 310, 'original_size': None}, {'type': 'thumb150', 'url': 'https://images1.vinted.net/t/02_02622_HwHGYKNmk2A6op6sKL43N4eM/150x150/1689878582.jpeg?s=7006c7cabe6f013b096770169fc5dc86382bd875', 'width': 150, 'height': 150, 'original_size': None}, {'type': 'thumb100', 'url': 'https://images1.vinted.net/t/02_02622_HwHGYKNmk2A6op6sKL43N4eM/100x100/1689878582.jpeg?s=b464aa08e32793c9922610037a9dab51cff3bfc6', 'width': 100, 'height': 100, 'original_size': None}, {'type': 'thumb50', 'url': 'https://images1.vinted.net/t/02_02622_HwHGYKNmk2A6op6sKL43N4eM/50x50/1689878582.jpeg?s=75bf8e9deb79944630784ef58ac25ce27ff4c9b5', 'width': 50, 'height': 50, 'original_size': None}, {'type': 'thumb20', 'url': 'https://images1.vinted.net/t/02_02622_HwHGYKNmk2A6op6sKL43N4eM/20x20/1689878582.jpeg?s=dd8c58f9ae3c3a13e7754113f3c6c52fce3110b4', 'width': 20, 'height': 20, 'original_size': None}], 'is_suspicious': False, 'orientation': None, 'high_resolution': {'id': '02_02622_HwHGYKNmk2A6op6sKL43N4eM', 'timestamp': 1689878582, 'orientation': None}, 'full_size_url': 'https://images1.vinted.net/tc/02_02622_HwHGYKNmk2A6op6sKL43N4eM/1689878582.jpeg?s=d45fde2f7409c48555b360da3ec83d414f25fcc4', 'is_hidden': False, 'extra': {}}}, 'url': 'https://www.vinted.fr/items/4774247355-vintage-triple-burdeos-jacket-retro-high-quality-premium-old-school-design-flow-90s', 'promoted': False, 'photo': {'id': 19396204206, 'image_no': 1, 'width': 785, 'height': 800, 'dominant_color': '#ED196B', 'dominant_color_opaque': '#FABAD3', 'url': 'https://images1.vinted.net/t/03_0252c_dJ8PAizRL6wYvMRADLuK54Pv/f800/1721160442.jpeg?s=070d6dcea35d20c53a9b85210a392e9a4511f159', 'is_main': True, 'thumbnails': [{'type': 'thumb70x100', 'url': 'https://images1.vinted.net/t/03_0252c_dJ8PAizRL6wYvMRADLuK54Pv/70x100/1721160442.jpeg?s=5ac56d1f49577cca7675a5f8cac74fe5b23febeb', 'width': 70, 'height': 100, 'original_size': None}, {'type': 'thumb150x210', 'url': 'https://images1.vinted.net/t/03_0252c_dJ8PAizRL6wYvMRADLuK54Pv/150x210/1721160442.jpeg?s=110f7712028784a90b1834726f477dcd42d2707c', 'width': 150, 'height': 210, 'original_size': None}, {'type': 'thumb310x430', 'url': 'https://images1.vinted.net/t/03_0252c_dJ8PAizRL6wYvMRADLuK54Pv/310x430/1721160442.jpeg?s=017c2d11378cebc91af0c4835cbc4945fdf54818', 'width': 310, 'height': 430, 'original_size': None}, {'type': 'thumb428x624', 'url': 'https://images1.vinted.net/t/03_0252c_dJ8PAizRL6wYvMRADLuK54Pv/f800/1721160442.jpeg?s=070d6dcea35d20c53a9b85210a392e9a4511f159', 'width': 420, 'height': 428, 'original_size': True}, {'type': 'thumb624x428', 'url': 'https://images1.vinted.net/t/03_0252c_dJ8PAizRL6wYvMRADLuK54Pv/f800/1721160442.jpeg?s=070d6dcea35d20c53a9b85210a392e9a4511f159', 'width': 612, 'height': 624, 'original_size': True}, {'type': 'thumb364x428', 'url': 'https://images1.vinted.net/t/03_0252c_dJ8PAizRL6wYvMRADLuK54Pv/f800/1721160442.jpeg?s=070d6dcea35d20c53a9b85210a392e9a4511f159', 'width': 357, 'height': 364, 'original_size': True}], 'high_resolution': {'id': '03_0252c_dJ8PAizRL6wYvMRADLuK54Pv', 'timestamp': 1721160442, 'orientation': None}, 'is_suspicious': False, 'full_size_url': 'https://images1.vinted.net/tc/03_0252c_dJ8PAizRL6wYvMRADLuK54Pv/1721160442.jpeg?s=23e0a9bd233b7c6d1030dcb8d27b81a922400e66', 'is_hidden': False, 'extra': {}}, 'favourite_count': 0, 'is_favourite': False, 'badge': None, 'conversion': None, 'service_fee': '1.95', 'total_item_price': '26.9', 'view_count': 0, 'size_title': 'S', 'content_source': 'catalog', 'status': 'Très bon état', 'icon_badges': [], 'search_tracking_params': {'score': 0.0, 'matched_queries': None}}\n"
     ]
    }
   ],
   "source": [
    "items = vinted.search(\"https://www.vinted.fr/catalog?catalog[]=1206&order=newest_first\",1,1)"
   ]
  },
  {
   "cell_type": "code",
   "execution_count": 3,
   "metadata": {},
   "outputs": [
    {
     "name": "stdout",
     "output_type": "stream",
     "text": [
      "Vintage Triple Burdeos Jacket Retro High Quality Premium Old School Design Flow 90's\n"
     ]
    }
   ],
   "source": [
    "for item in items:\n",
    "    print(item.title)"
   ]
  }
 ],
 "metadata": {
  "kernelspec": {
   "display_name": "vinted",
   "language": "python",
   "name": "python3"
  },
  "language_info": {
   "codemirror_mode": {
    "name": "ipython",
    "version": 3
   },
   "file_extension": ".py",
   "mimetype": "text/x-python",
   "name": "python",
   "nbconvert_exporter": "python",
   "pygments_lexer": "ipython3",
   "version": "3.12.4"
  }
 },
 "nbformat": 4,
 "nbformat_minor": 2
}
