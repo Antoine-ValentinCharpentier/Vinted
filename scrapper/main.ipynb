{
 "cells": [
  {
   "cell_type": "code",
   "execution_count": 16,
   "metadata": {},
   "outputs": [
    {
     "name": "stdout",
     "output_type": "stream",
     "text": [
      "Auth cookies define\n"
     ]
    }
   ],
   "source": [
    "from vinted import Vinted\n",
    "\n",
    "vinted = Vinted()"
   ]
  },
  {
   "cell_type": "code",
   "execution_count": 17,
   "metadata": {},
   "outputs": [
    {
     "name": "stdout",
     "output_type": "stream",
     "text": [
      "Results saved to ./data/results.csv\n"
     ]
    }
   ],
   "source": [
    "items = vinted.search(\"https://www.vinted.fr/catalog?catalog[]=1206&order=newest_first\",nb_items_page=3,starting_page=1, ending_page=3)"
   ]
  },
  {
   "cell_type": "code",
   "execution_count": 18,
   "metadata": {},
   "outputs": [
    {
     "name": "stdout",
     "output_type": "stream",
     "text": [
      "Veste en jeans\n",
      "Doudoune boss\n",
      "Leren jas\n",
      "Veste cuir Schott\n",
      "Jacket van Jack & Jones\n",
      "Smanicato armani\n",
      "Manteau coupe-vent\n",
      "Piumino bianco blazer\n",
      "Veste en jean bleu LEVIS originale homme\n"
     ]
    }
   ],
   "source": [
    "for item in items:\n",
    "    print(item.title)"
   ]
  },
  {
   "cell_type": "code",
   "execution_count": 19,
   "metadata": {},
   "outputs": [
    {
     "name": "stdout",
     "output_type": "stream",
     "text": [
      ">> Catalog id n° 84\n",
      "Results saved to ./data/results_84.csv\n"
     ]
    }
   ],
   "source": [
    "items = vinted.search_all(nb_items_page=2, nb_page=2, excludes_catalogs_names = ['Femmes', 'Enfants', 'Maison', 'Divertissement', 'Animaux', 'Soins', 'Accessoires', 'Chaussures', 'Autres', 'Vêtements spécialisés et costumes', 'Vêtements de sport et accessoires', 'Jeans', 'Manteaux et vestes', 'Hauts et t-shirts', 'Costumes et blazers', 'Sweats et pulls', \"Pantalons\", \"Shorts\", \"Sous-vêtements et chaussettes\", \"Pyjamas\"])"
   ]
  },
  {
   "cell_type": "code",
   "execution_count": 20,
   "metadata": {},
   "outputs": [
    {
     "data": {
      "text/plain": [
       "4"
      ]
     },
     "execution_count": 20,
     "metadata": {},
     "output_type": "execute_result"
    }
   ],
   "source": [
    "len(items)"
   ]
  }
 ],
 "metadata": {
  "kernelspec": {
   "display_name": "vinted",
   "language": "python",
   "name": "python3"
  },
  "language_info": {
   "codemirror_mode": {
    "name": "ipython",
    "version": 3
   },
   "file_extension": ".py",
   "mimetype": "text/x-python",
   "name": "python",
   "nbconvert_exporter": "python",
   "pygments_lexer": "ipython3",
   "version": "3.12.4"
  }
 },
 "nbformat": 4,
 "nbformat_minor": 2
}
