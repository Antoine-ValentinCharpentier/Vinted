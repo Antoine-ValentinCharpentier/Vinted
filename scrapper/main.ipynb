{
 "cells": [
  {
   "cell_type": "code",
   "execution_count": 4,
   "metadata": {},
   "outputs": [
    {
     "name": "stdout",
     "output_type": "stream",
     "text": [
      "Auth cookies define\n"
     ]
    }
   ],
   "source": [
    "from vinted import Vinted\n",
    "\n",
    "vinted = Vinted(request_delay=3, download_images=True)"
   ]
  },
  {
   "cell_type": "code",
   "execution_count": 5,
   "metadata": {},
   "outputs": [
    {
     "name": "stdout",
     "output_type": "stream",
     "text": [
      "Results saved to ./data/results.csv\n"
     ]
    }
   ],
   "source": [
    "items = vinted.search(\"https://www.vinted.fr/catalog?catalog[]=1206&order=newest_first\",nb_items_page=3,starting_page=1, ending_page=3)"
   ]
  },
  {
   "cell_type": "code",
   "execution_count": 6,
   "metadata": {},
   "outputs": [
    {
     "name": "stdout",
     "output_type": "stream",
     "text": [
      "Gilet da uomo smanicato leggermente imbottito Allstar Converse💖\n",
      "Giacca in pelle\n",
      "Casaco Retro-X Patagonia L\n",
      "Chaqueta chándal McKenzie\n",
      "Veste\n",
      "Giacca jeans con toppe\n",
      "Trench burberry\n",
      "Veste sans marche Zara noire\n",
      "Chaqueta vaquera\n"
     ]
    }
   ],
   "source": [
    "for item in items:\n",
    "    print(item.title)"
   ]
  },
  {
   "cell_type": "code",
   "execution_count": null,
   "metadata": {},
   "outputs": [],
   "source": [
    "items = vinted.search_all(nb_items_page=2, nb_page=2, excludes_catalogs_names = ['Femmes', 'Enfants', 'Maison', 'Divertissement', 'Animaux', 'Soins', 'Accessoires', 'Chaussures', 'Autres', 'Vêtements spécialisés et costumes', 'Vêtements de sport et accessoires', 'Jeans', 'Manteaux et vestes', 'Hauts et t-shirts', 'Costumes et blazers', 'Sweats et pulls', \"Maillots de bain\", \"Shorts\", \"Sous-vêtements et chaussettes\", \"Pyjamas\", \"Articles de créateurs\"])"
   ]
  },
  {
   "cell_type": "code",
   "execution_count": null,
   "metadata": {},
   "outputs": [],
   "source": [
    "len(items)"
   ]
  }
 ],
 "metadata": {
  "kernelspec": {
   "display_name": "vinted",
   "language": "python",
   "name": "python3"
  },
  "language_info": {
   "codemirror_mode": {
    "name": "ipython",
    "version": 3
   },
   "file_extension": ".py",
   "mimetype": "text/x-python",
   "name": "python",
   "nbconvert_exporter": "python",
   "pygments_lexer": "ipython3",
   "version": "3.12.4"
  }
 },
 "nbformat": 4,
 "nbformat_minor": 2
}
